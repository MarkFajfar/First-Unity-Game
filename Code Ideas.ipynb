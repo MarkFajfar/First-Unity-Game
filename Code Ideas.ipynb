{
 "cells": [
  {
   "attachments": {},
   "cell_type": "markdown",
   "metadata": {},
   "source": [
    "Deleted from omnisharp."
   ]
  },
  {
   "cell_type": "code",
   "execution_count": null,
   "metadata": {
    "dotnet_interactive": {
     "language": "csharp"
    },
    "polyglot_notebook": {
     "kernelName": "csharp"
    }
   },
   "outputs": [],
   "source": [
    " \"fileOptions\": {\n",
    "    \"userExcludeSearchPatterns\": [\n",
    "      \"**/Assets/Plugins/**.cs\",\n",
    "      \"Assets/Plugins/**.cs\"\n",
    "    ],\n",
    "    \"systemExcludeSearchPatterns\": [\n",
    "      \"**/Assets/Plugins/**.cs\",\n",
    "      \"Assets/Plugins/**.cs\"\n",
    "    ],\n",
    "    \"excludeSearchPatterns\": [\n",
    "      \"**/Assets/Plugins/**.cs\",\n",
    "      \"Assets/Plugins/**.cs\"\n",
    "    ]\n",
    "  }"
   ]
  },
  {
   "attachments": {},
   "cell_type": "markdown",
   "metadata": {},
   "source": [
    "This is the old version of the ChoiceUIScript"
   ]
  },
  {
   "cell_type": "code",
   "execution_count": 2,
   "metadata": {
    "dotnet_interactive": {
     "language": "csharp"
    },
    "polyglot_notebook": {
     "kernelName": "csharp"
    }
   },
   "outputs": [
    {
     "ename": "Error",
     "evalue": "(5,7): error CS0246: The type or namespace name 'UnityEngine' could not be found (are you missing a using directive or an assembly reference?)\r\n(7,7): error CS0246: The type or namespace name 'UnityEngine' could not be found (are you missing a using directive or an assembly reference?)\r\n(19,35): error CS0246: The type or namespace name 'MonoBehaviour' could not be found (are you missing a using directive or an assembly reference?)\r\n(19,50): error CS0246: The type or namespace name 'IsUIScript' could not be found (are you missing a using directive or an assembly reference?)\r\n(31,9): error CS0246: The type or namespace name 'IMethodReceiver' could not be found (are you missing a using directive or an assembly reference?)\r\n(32,14): error CS0246: The type or namespace name 'IMethodReceiver' could not be found (are you missing a using directive or an assembly reference?)\r\n(49,9): error CS0246: The type or namespace name 'VisualElement' could not be found (are you missing a using directive or an assembly reference?)\r\n(50,14): error CS0246: The type or namespace name 'Button' could not be found (are you missing a using directive or an assembly reference?)\r\n(80,36): error CS0246: The type or namespace name 'IMethodReceiver' could not be found (are you missing a using directive or an assembly reference?)\r\n(102,28): error CS0246: The type or namespace name 'ClickEvent' could not be found (are you missing a using directive or an assembly reference?)\r\n(38,34): error CS0246: The type or namespace name 'IMethodReceiver' could not be found (are you missing a using directive or an assembly reference?)\r\n(40,45): error CS0246: The type or namespace name 'MonoBehaviour' could not be found (are you missing a using directive or an assembly reference?)\r\n(40,27): error CS0103: The name 'FindObjectsOfType' does not exist in the current context\r\n(40,82): error CS0246: The type or namespace name 'IMethodReceiver' could not be found (are you missing a using directive or an assembly reference?)\r\n(44,53): error CS0246: The type or namespace name 'IMethodReceiver' could not be found (are you missing a using directive or an assembly reference?)\r\n(43,26): error CS0246: The type or namespace name 'IMethodReceiver' could not be found (are you missing a using directive or an assembly reference?)\r\n(58,37): error CS0246: The type or namespace name 'UIDocument' could not be found (are you missing a using directive or an assembly reference?)\r\n(58,24): error CS0103: The name 'GetComponent' does not exist in the current context\r\n(59,34): error CS0246: The type or namespace name 'VisualElement' could not be found (are you missing a using directive or an assembly reference?)\r\n(61,41): error CS0246: The type or namespace name 'Button' could not be found (are you missing a using directive or an assembly reference?)\r\n(64,45): error CS0246: The type or namespace name 'ClickEvent' could not be found (are you missing a using directive or an assembly reference?)\r\n(75,44): error CS0103: The name 'DisplayStyle' does not exist in the current context\r\n(86,44): error CS0103: The name 'DisplayStyle' does not exist in the current context\r\n(97,44): error CS0103: The name 'DisplayStyle' does not exist in the current context\r\n(106,40): error CS0103: The name 'DisplayStyle' does not exist in the current context\r\n(108,47): error CS0246: The type or namespace name 'Button' could not be found (are you missing a using directive or an assembly reference?)",
     "output_type": "error",
     "traceback": [
      "(5,7): error CS0246: The type or namespace name 'UnityEngine' could not be found (are you missing a using directive or an assembly reference?)\r\n",
      "(7,7): error CS0246: The type or namespace name 'UnityEngine' could not be found (are you missing a using directive or an assembly reference?)\r\n",
      "(19,35): error CS0246: The type or namespace name 'MonoBehaviour' could not be found (are you missing a using directive or an assembly reference?)\r\n",
      "(19,50): error CS0246: The type or namespace name 'IsUIScript' could not be found (are you missing a using directive or an assembly reference?)\r\n",
      "(31,9): error CS0246: The type or namespace name 'IMethodReceiver' could not be found (are you missing a using directive or an assembly reference?)\r\n",
      "(32,14): error CS0246: The type or namespace name 'IMethodReceiver' could not be found (are you missing a using directive or an assembly reference?)\r\n",
      "(49,9): error CS0246: The type or namespace name 'VisualElement' could not be found (are you missing a using directive or an assembly reference?)\r\n",
      "(50,14): error CS0246: The type or namespace name 'Button' could not be found (are you missing a using directive or an assembly reference?)\r\n",
      "(80,36): error CS0246: The type or namespace name 'IMethodReceiver' could not be found (are you missing a using directive or an assembly reference?)\r\n",
      "(102,28): error CS0246: The type or namespace name 'ClickEvent' could not be found (are you missing a using directive or an assembly reference?)\r\n",
      "(38,34): error CS0246: The type or namespace name 'IMethodReceiver' could not be found (are you missing a using directive or an assembly reference?)\r\n",
      "(40,45): error CS0246: The type or namespace name 'MonoBehaviour' could not be found (are you missing a using directive or an assembly reference?)\r\n",
      "(40,27): error CS0103: The name 'FindObjectsOfType' does not exist in the current context\r\n",
      "(40,82): error CS0246: The type or namespace name 'IMethodReceiver' could not be found (are you missing a using directive or an assembly reference?)\r\n",
      "(44,53): error CS0246: The type or namespace name 'IMethodReceiver' could not be found (are you missing a using directive or an assembly reference?)\r\n",
      "(43,26): error CS0246: The type or namespace name 'IMethodReceiver' could not be found (are you missing a using directive or an assembly reference?)\r\n",
      "(58,37): error CS0246: The type or namespace name 'UIDocument' could not be found (are you missing a using directive or an assembly reference?)\r\n",
      "(58,24): error CS0103: The name 'GetComponent' does not exist in the current context\r\n",
      "(59,34): error CS0246: The type or namespace name 'VisualElement' could not be found (are you missing a using directive or an assembly reference?)\r\n",
      "(61,41): error CS0246: The type or namespace name 'Button' could not be found (are you missing a using directive or an assembly reference?)\r\n",
      "(64,45): error CS0246: The type or namespace name 'ClickEvent' could not be found (are you missing a using directive or an assembly reference?)\r\n",
      "(75,44): error CS0103: The name 'DisplayStyle' does not exist in the current context\r\n",
      "(86,44): error CS0103: The name 'DisplayStyle' does not exist in the current context\r\n",
      "(97,44): error CS0103: The name 'DisplayStyle' does not exist in the current context\r\n",
      "(106,40): error CS0103: The name 'DisplayStyle' does not exist in the current context\r\n",
      "(108,47): error CS0246: The type or namespace name 'Button' could not be found (are you missing a using directive or an assembly reference?)"
     ]
    }
   ],
   "source": [
    "using System;\n",
    "using System.Collections.Generic;\n",
    "using System.Linq;\n",
    "using System.Threading.Tasks;\n",
    "using UnityEngine;\n",
    "\n",
    "using UnityEngine.UIElements;\n",
    "\n",
    "    public class CustomEventArgs : EventArgs\n",
    "    {\n",
    "        public CustomEventArgs(string message)\n",
    "        {\n",
    "            Message = message;\n",
    "        }\n",
    "\n",
    "        public string Message { get; set; }\n",
    "    }\n",
    "\n",
    "    public class ChoiceUIScript : MonoBehaviour, IsUIScript\n",
    "    {\n",
    "        public delegate void ChoiceMade(string choiceText);\n",
    "        public event ChoiceMade OnChoiceMade;\n",
    "        bool isEvent = false;\n",
    "\n",
    "        public delegate Task<string>ChoiceMadeAsync();\n",
    "        public event ChoiceMadeAsync OnChoiceMadeAsync;\n",
    "\n",
    "        //public delegate void CustomEventHandler(object sender, CustomEventArgs args);\n",
    "        public event EventHandler<CustomEventArgs> RaiseCustomEvent;\n",
    "\n",
    "        IMethodReceiver sender = null;\n",
    "        List<IMethodReceiver> Receivers;\n",
    "\n",
    "        void Awake()\n",
    "        {\n",
    "            // make list of all receivers in the scene\n",
    "            // necessary only to \"broadcast\" method calls\n",
    "            Receivers = new List<IMethodReceiver>();\n",
    "            \n",
    "            var Scripts = FindObjectsOfType<MonoBehaviour>().Where(obj => obj is IMethodReceiver);\n",
    "\n",
    "            foreach (var script in Scripts)\n",
    "            {   foreach (IMethodReceiver receiver in \n",
    "                    script.gameObject.GetComponents<IMethodReceiver>().Where(r => !Receivers.Contains(r)))\n",
    "                { Receivers.Add(receiver); }\n",
    "            }\n",
    "        }\n",
    "\n",
    "        VisualElement choicePanel;\n",
    "        List<Button> buttons;\n",
    "        void OnEnable()\n",
    "        {\n",
    "            getVisualElements();\n",
    "        }\n",
    "\n",
    "        public void getVisualElements()\n",
    "        {\n",
    "            var root = GetComponent<UIDocument>().rootVisualElement;\n",
    "            choicePanel = root.Q<VisualElement>(\"ChoicePanel\");\n",
    "\n",
    "            buttons = choicePanel.Query<Button>().ToList();\n",
    "            for (int i = 0; i < buttons.Count; i++)\n",
    "            {\n",
    "                buttons[i].RegisterCallback<ClickEvent>(buttonClicked);\n",
    "            }\n",
    "        }\n",
    "\n",
    "        // use this where button click goes back to another script, or multiple scripts in scene\n",
    "        public void DisplayChoices(List<string> choices)\n",
    "        {\n",
    "            isEvent = false;\n",
    "            sender = null;\n",
    "            for (int i = 0; i < choices.Count; i++)\n",
    "            {\n",
    "                buttons[i].style.display = DisplayStyle.Flex;\n",
    "                buttons[i].text = choices[i];\n",
    "            }\n",
    "        }\n",
    "\n",
    "        public void DisplayChoices(IMethodReceiver senderobj, List<string> choices)\n",
    "        {\n",
    "            isEvent = false;\n",
    "            sender = senderobj;\n",
    "            for (int i = 0; i < choices.Count; i++)\n",
    "            {\n",
    "                buttons[i].style.display = DisplayStyle.Flex;\n",
    "                buttons[i].text = choices[i];\n",
    "            }\n",
    "        }\n",
    "\n",
    "        public void DisplayChoicesEvent(List<string> choices)\n",
    "        {\n",
    "            isEvent = true;\n",
    "            sender = null;\n",
    "            for (int i = 0; i < choices.Count; i++)\n",
    "            {\n",
    "                buttons[i].style.display = DisplayStyle.Flex;\n",
    "                buttons[i].text = choices[i];\n",
    "            }\n",
    "        }\n",
    "\n",
    "        void buttonClicked(ClickEvent evt)\n",
    "        {\n",
    "            foreach (var button in buttons)\n",
    "            {\n",
    "                button.style.display = DisplayStyle.None;\n",
    "            }\n",
    "            var clickedButton = evt.target as Button;\n",
    "            string choiceText = \"clicked\" + clickedButton.text;\n",
    "            if (sender != null)\n",
    "            {\n",
    "                sender.methodManager(choiceText);\n",
    "                sender = null; // reset so only this call\n",
    "            }\n",
    "            else if (isEvent)\n",
    "            {\n",
    "                OnChoiceMade?.Invoke(choiceText);\n",
    "                //OnChoiceMadeAsync?.Invoke();\n",
    "                //OnRaiseCustomEvent(new CustomEventArgs(choiceText));\n",
    "                isEvent = false;\n",
    "            }\n",
    "            else\n",
    "            {\n",
    "                foreach (var receiver in Receivers)\n",
    "                    receiver.methodManager(choiceText);\n",
    "            }\n",
    "        }\n",
    "\n",
    "        protected virtual void OnRaiseCustomEvent(CustomEventArgs e)\n",
    "        {\n",
    "            // Make a temporary copy of the event to avoid possibility of\n",
    "            // a race condition if the last subscriber unsubscribes\n",
    "            // immediately after the null check and before the event is raised.\n",
    "            EventHandler<CustomEventArgs> raiseEvent = RaiseCustomEvent;\n",
    "\n",
    "            // Event will be null if there are no subscribers\n",
    "            if (raiseEvent != null)\n",
    "            {\n",
    "                // Format the string to send inside the CustomEventArgs parameter\n",
    "                //e.Message += $\" at {DateTime.Now}\";\n",
    "\n",
    "                // Call to raise the event.\n",
    "                raiseEvent(this, e);\n",
    "            }\n",
    "        }\n",
    "    }"
   ]
  }
 ],
 "metadata": {
  "kernelspec": {
   "display_name": ".NET (C#)",
   "language": "C#",
   "name": ".net-csharp"
  },
  "language_info": {
   "name": "polyglot-notebook"
  },
  "polyglot_notebook": {
   "kernelInfo": {
    "defaultKernelName": "csharp",
    "items": [
     {
      "aliases": [],
      "languageName": "csharp",
      "name": "csharp"
     }
    ]
   }
  }
 },
 "nbformat": 4,
 "nbformat_minor": 2
}
